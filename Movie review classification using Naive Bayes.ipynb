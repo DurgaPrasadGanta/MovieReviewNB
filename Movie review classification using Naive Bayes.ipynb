{
 "cells": [
  {
   "cell_type": "code",
   "execution_count": 1,
   "metadata": {},
   "outputs": [
    {
     "data": {
      "text/html": [
       "<div>\n",
       "<style scoped>\n",
       "    .dataframe tbody tr th:only-of-type {\n",
       "        vertical-align: middle;\n",
       "    }\n",
       "\n",
       "    .dataframe tbody tr th {\n",
       "        vertical-align: top;\n",
       "    }\n",
       "\n",
       "    .dataframe thead th {\n",
       "        text-align: right;\n",
       "    }\n",
       "</style>\n",
       "<table border=\"1\" class=\"dataframe\">\n",
       "  <thead>\n",
       "    <tr style=\"text-align: right;\">\n",
       "      <th></th>\n",
       "      <th>Unnamed: 0</th>\n",
       "      <th>Content</th>\n",
       "      <th>Label</th>\n",
       "    </tr>\n",
       "  </thead>\n",
       "  <tbody>\n",
       "    <tr>\n",
       "      <th>0</th>\n",
       "      <td>0</td>\n",
       "      <td>every once in a while you see a film that is s...</td>\n",
       "      <td>pos</td>\n",
       "    </tr>\n",
       "    <tr>\n",
       "      <th>1</th>\n",
       "      <td>1</td>\n",
       "      <td>the love for family is one of the strongest dr...</td>\n",
       "      <td>pos</td>\n",
       "    </tr>\n",
       "    <tr>\n",
       "      <th>2</th>\n",
       "      <td>2</td>\n",
       "      <td>after the terminally bleak reservoir dogs and ...</td>\n",
       "      <td>pos</td>\n",
       "    </tr>\n",
       "    <tr>\n",
       "      <th>3</th>\n",
       "      <td>3</td>\n",
       "      <td>( warning to those who have not seen seven : ...</td>\n",
       "      <td>pos</td>\n",
       "    </tr>\n",
       "    <tr>\n",
       "      <th>4</th>\n",
       "      <td>4</td>\n",
       "      <td>having not seen , \" who framed roger rabbit \" ...</td>\n",
       "      <td>pos</td>\n",
       "    </tr>\n",
       "  </tbody>\n",
       "</table>\n",
       "</div>"
      ],
      "text/plain": [
       "   Unnamed: 0                                            Content Label\n",
       "0           0  every once in a while you see a film that is s...   pos\n",
       "1           1  the love for family is one of the strongest dr...   pos\n",
       "2           2  after the terminally bleak reservoir dogs and ...   pos\n",
       "3           3   ( warning to those who have not seen seven : ...   pos\n",
       "4           4  having not seen , \" who framed roger rabbit \" ...   pos"
      ]
     },
     "execution_count": 1,
     "metadata": {},
     "output_type": "execute_result"
    }
   ],
   "source": [
    "import numpy as np\n",
    "import pandas as pd\n",
    "from collections import Counter\n",
    "from nltk.corpus import stopwords\n",
    "from nltk.stem import PorterStemmer\n",
    "from nltk import word_tokenize\n",
    "stop_words = list(stopwords.words('english'))\n",
    "ps=PorterStemmer()\n",
    "punctuations = '''``...|!()=-[]{};'':—’”“\\,<>./?@#$%^&*_~'''\n",
    "trainData = pd.read_csv(\"train.csv\")\n",
    "positive_docs = [row['Content'] for index,row in trainData.iterrows() if row['Label'] == 'pos']\n",
    "negative_docs = [row['Content'] for index,row in trainData.iterrows() if row['Label'] == 'neg']\n",
    "total_docs = [row['Content'] for index,row in trainData.iterrows()]\n",
    "\n",
    "Total_positiveDoc=''\n",
    "Total_negativeDoc=''\n",
    "TotalDoc=''\n",
    "for doc1 in positive_docs:\n",
    "    Total_positiveDoc=Total_positiveDoc+' '+doc1\n",
    "for doc2 in negative_docs:\n",
    "    Total_negativeDoc=Total_negativeDoc+' '+doc2\n",
    "for doc in total_docs:\n",
    "    TotalDoc=TotalDoc+' '+doc\n",
    "              \n",
    "postiveTrainingTokens=word_tokenize(Total_positiveDoc)\n",
    "negativeTrainingTokens=word_tokenize(Total_negativeDoc)\n",
    "totalTrainingTokens=word_tokenize(TotalDoc) \n",
    "              \n",
    "newTokens_positive_training=[]\n",
    "newTokens_negative_training=[]\n",
    "totalTokens_training=[]\n",
    "for w in postiveTrainingTokens: \n",
    "    rootword=ps.stem(w)\n",
    "    if rootword not in stop_words: \n",
    "        word=rootword\n",
    "        if word not in punctuations:\n",
    "            newTokens_positive_training.append(word.lower())\n",
    "for w in negativeTrainingTokens: \n",
    "    rootword=ps.stem(w)\n",
    "    if rootword not in stop_words: \n",
    "        word=rootword\n",
    "        if word not in punctuations:\n",
    "            newTokens_negative_training.append(word.lower())\n",
    "for w in totalTrainingTokens: \n",
    "    rootword=ps.stem(w)\n",
    "    if rootword not in stop_words: \n",
    "        word=rootword\n",
    "        if word not in punctuations:\n",
    "            totalTokens_training.append(word.lower())\n",
    "counts_positive_training=Counter(newTokens_positive_training)\n",
    "counts_negative_training=Counter(newTokens_negative_training)\n",
    "counts_total=Counter(totalTokens_training)\n",
    "count_features_pos=(sum(counts_positive_training.values()))\n",
    "count_features_neg=(sum(counts_negative_training.values()))\n",
    "total_features=(len(counts_total))\n",
    "trainData.head()"
   ]
  },
  {
   "cell_type": "code",
   "execution_count": 2,
   "metadata": {},
   "outputs": [
    {
     "name": "stdout",
     "output_type": "stream",
     "text": [
      "365435\n",
      "327078\n",
      "31068\n"
     ]
    }
   ],
   "source": [
    "print(count_features_pos)\n",
    "print(count_features_neg)\n",
    "print(total_features)"
   ]
  },
  {
   "cell_type": "code",
   "execution_count": 3,
   "metadata": {},
   "outputs": [],
   "source": [
    "def NBClassifier(review):  \n",
    "    prob_pos=[]\n",
    "    prob_neg=[]\n",
    "    tokens=word_tokenize(review)\n",
    "    stemmed_tokens=[]\n",
    "    for w in tokens:\n",
    "        rootword=ps.stem(w)\n",
    "        if rootword not in stop_words: \n",
    "            word=rootword\n",
    "            if word not in punctuations:\n",
    "                stemmed_tokens.append(word.lower())\n",
    "    for word in stemmed_tokens:\n",
    "        if word in counts_positive_training:\n",
    "            count=counts_positive_training[word]\n",
    "        else:\n",
    "            count=0\n",
    "        prob_pos.append((count+1)/(count_features_pos+total_features))\n",
    "    x=(np.product(prob_pos))\n",
    "\n",
    "    for word in stemmed_tokens:\n",
    "        if word in counts_negative_training:\n",
    "            count=counts_negative_training[word]\n",
    "        else:\n",
    "            count=0\n",
    "        prob_neg.append((count+1)/(count_features_neg+total_features))\n",
    "    y=(np.product(prob_neg))\n",
    "    if x>=y:\n",
    "        print('pos')\n",
    "    else:\n",
    "        print('neg')"
   ]
  },
  {
   "cell_type": "code",
   "execution_count": 4,
   "metadata": {},
   "outputs": [
    {
     "name": "stdout",
     "output_type": "stream",
     "text": [
      "pos\n",
      "pos\n",
      "neg\n"
     ]
    }
   ],
   "source": [
    "NBClassifier('The MCU will go on and on, but this chapter - and the American pragmatism vs. American ideals bromance that drove it - have well and truly come to their Excelsior! Nuff said! moment.')\n",
    "NBClassifier('What is missing from Endgame is the free play of imagination, the liberation of speculation, the meandering paths and loose ends that start in logic and lead to wonder.')\n",
    "NBClassifier('I would not have believed the breezy and tongue-in-cheek Avengers Assemble would evolve into such an odiously self-important endeavour a mere seven years later.')"
   ]
  },
  {
   "cell_type": "code",
   "execution_count": null,
   "metadata": {},
   "outputs": [],
   "source": []
  }
 ],
 "metadata": {
  "kernelspec": {
   "display_name": "Python 3",
   "language": "python",
   "name": "python3"
  },
  "language_info": {
   "codemirror_mode": {
    "name": "ipython",
    "version": 3
   },
   "file_extension": ".py",
   "mimetype": "text/x-python",
   "name": "python",
   "nbconvert_exporter": "python",
   "pygments_lexer": "ipython3",
   "version": "3.7.3"
  }
 },
 "nbformat": 4,
 "nbformat_minor": 2
}
